{
 "cells": [
  {
   "cell_type": "code",
   "execution_count": 1,
   "metadata": {},
   "outputs": [
    {
     "name": "stderr",
     "output_type": "stream",
     "text": [
      "/home/tbaderts/miniconda3/envs/nvidia/lib/python3.8/site-packages/torchvision/io/image.py:13: UserWarning: Failed to load image Python extension: /home/tbaderts/miniconda3/lib/python3.9/site-packages/torch/lib/libtorch_cuda_cpp.so: undefined symbol: _ZN5torch19kParamCommsCallNameE\n",
      "  warn(f\"Failed to load image Python extension: {e}\")\n"
     ]
    }
   ],
   "source": [
    "import torch\n",
    "import torchvision.transforms as transforms\n",
    "import torch2trt\n",
    "from torch2trt import TRTModule\n",
    "import trt_pose.models\n",
    "from trt_pose.draw_objects import DrawObjects\n",
    "from trt_pose.parse_objects import ParseObjects\n",
    "import trt_pose.coco\n",
    "import math\n",
    "import os\n",
    "import numpy as np\n",
    "import traitlets\n",
    "import pickle\n",
    "import sys\n",
    "import time\n",
    "import json\n"
   ]
  },
  {
   "cell_type": "code",
   "execution_count": 2,
   "metadata": {},
   "outputs": [],
   "source": [
    "sys.path.append(\"../\")\n",
    "WIDTH = 224\n",
    "HEIGHT = 224\n",
    "batch_size = 1\n",
    "MODEL_WEIGHTS = 'model/hand_pose_resnet18_att_244_244.pt'\n",
    "OPTIMIZED_MODEL = 'model/hand_pose_resnet18_att_244_244.trt'\n",
    "device = torch.device('cuda')\n"
   ]
  },
  {
   "cell_type": "code",
   "execution_count": 3,
   "metadata": {},
   "outputs": [
    {
     "name": "stderr",
     "output_type": "stream",
     "text": [
      "/home/tbaderts/miniconda3/envs/nvidia/lib/python3.8/site-packages/torchvision/models/_utils.py:208: UserWarning: The parameter 'pretrained' is deprecated since 0.13 and will be removed in 0.15, please use 'weights' instead.\n",
      "  warnings.warn(\n",
      "/home/tbaderts/miniconda3/envs/nvidia/lib/python3.8/site-packages/torchvision/models/_utils.py:223: UserWarning: Arguments other than a weight enum or `None` for 'weights' are deprecated since 0.13 and will be removed in 0.15. The current behavior is equivalent to passing `weights=ResNet18_Weights.IMAGENET1K_V1`. You can also use `weights=ResNet18_Weights.DEFAULT` to get the most up-to-date weights.\n",
      "  warnings.warn(msg)\n"
     ]
    },
    {
     "data": {
      "text/plain": [
       "<All keys matched successfully>"
      ]
     },
     "execution_count": 3,
     "metadata": {},
     "output_type": "execute_result"
    }
   ],
   "source": [
    "\n",
    "with open('preprocess/hand_pose.json', 'r') as f:\n",
    "    hand_pose = json.load(f)\n",
    "\n",
    "num_parts = len(hand_pose['keypoints'])\n",
    "num_links = len(hand_pose['skeleton'])\n",
    "topology = trt_pose.coco.coco_category_to_topology(hand_pose)\n",
    "model = trt_pose.models.resnet18_baseline_att(\n",
    "    num_parts, 2 * num_links).cuda().eval()\n",
    "data = torch.zeros((batch_size, 3, HEIGHT, WIDTH)).cuda()\n",
    "\n",
    "model.load_state_dict(torch.load(MODEL_WEIGHTS))\n",
    "model_trt = torch2trt.torch2trt(\n",
    "    model, [data], fp16_mode=True, max_workspace_size=1 << 25)\n",
    "torch.save(model_trt.state_dict(), OPTIMIZED_MODEL)\n",
    "\n",
    "model_trt = TRTModule()\n",
    "model_trt.load_state_dict(torch.load(OPTIMIZED_MODEL))\n"
   ]
  },
  {
   "cell_type": "code",
   "execution_count": 4,
   "metadata": {},
   "outputs": [],
   "source": [
    "# provided by Nvidia\n",
    "import time\n",
    "import numpy as np\n",
    "\n",
    "import torch.backends.cudnn as cudnn\n",
    "cudnn.benchmark = True\n",
    "\n",
    "\n",
    "def benchmark(model, device=\"cuda\", input_shape=(batch_size, 3, 224, 224), dtype='fp32', nwarmup=50, nruns=100):\n",
    "    input_data = torch.randn(input_shape)\n",
    "    input_data = input_data.to(device)\n",
    "\n",
    "    print(\"Warm up ...\")\n",
    "    with torch.no_grad():\n",
    "        for _ in range(nwarmup):\n",
    "            features = model(input_data)\n",
    "    torch.cuda.synchronize()\n",
    "    print(\"Start timing ...\")\n",
    "    timings = []\n",
    "    with torch.no_grad():\n",
    "        for i in range(1, nruns+1):\n",
    "            start_time = time.time()\n",
    "            features = model(input_data)\n",
    "            torch.cuda.synchronize()\n",
    "            end_time = time.time()\n",
    "            timings.append(end_time - start_time)\n",
    "            if i % 10 == 0:\n",
    "                print('Iteration %d/%d, ave batch time %.2f ms' %\n",
    "                      (i, nruns, np.mean(timings)*1000))\n",
    "\n",
    "    print('Average batch time: %.2f ms' % (np.mean(timings)*1000))\n"
   ]
  },
  {
   "cell_type": "code",
   "execution_count": 5,
   "metadata": {},
   "outputs": [
    {
     "name": "stdout",
     "output_type": "stream",
     "text": [
      "Warm up ...\n",
      "Start timing ...\n",
      "Iteration 10/100, ave batch time 115.80 ms\n",
      "Iteration 20/100, ave batch time 116.92 ms\n",
      "Iteration 30/100, ave batch time 118.53 ms\n",
      "Iteration 40/100, ave batch time 119.83 ms\n",
      "Iteration 50/100, ave batch time 119.63 ms\n",
      "Iteration 60/100, ave batch time 118.68 ms\n",
      "Iteration 70/100, ave batch time 117.36 ms\n",
      "Iteration 80/100, ave batch time 116.79 ms\n",
      "Iteration 90/100, ave batch time 116.66 ms\n",
      "Iteration 100/100, ave batch time 116.28 ms\n",
      "Average batch time: 116.28 ms\n"
     ]
    }
   ],
   "source": [
    "# CPU benchmark\n",
    "model.to(\"cpu\")\n",
    "benchmark(model, device=\"cpu\")\n"
   ]
  },
  {
   "cell_type": "code",
   "execution_count": 6,
   "metadata": {},
   "outputs": [
    {
     "name": "stdout",
     "output_type": "stream",
     "text": [
      "Warm up ...\n",
      "Start timing ...\n",
      "Iteration 10/100, ave batch time 5.65 ms\n",
      "Iteration 20/100, ave batch time 5.74 ms\n",
      "Iteration 30/100, ave batch time 5.74 ms\n",
      "Iteration 40/100, ave batch time 5.80 ms\n",
      "Iteration 50/100, ave batch time 5.74 ms\n",
      "Iteration 60/100, ave batch time 5.73 ms\n",
      "Iteration 70/100, ave batch time 5.70 ms\n",
      "Iteration 80/100, ave batch time 5.70 ms\n",
      "Iteration 90/100, ave batch time 5.67 ms\n",
      "Iteration 100/100, ave batch time 5.65 ms\n",
      "Average batch time: 5.65 ms\n"
     ]
    }
   ],
   "source": [
    "# CUDA benchmark\n",
    "model = model.to(\"cuda\")\n",
    "benchmark(model)\n"
   ]
  },
  {
   "cell_type": "code",
   "execution_count": 7,
   "metadata": {},
   "outputs": [
    {
     "name": "stdout",
     "output_type": "stream",
     "text": [
      "Warm up ...\n",
      "Start timing ...\n",
      "Iteration 10/100, ave batch time 1.08 ms\n",
      "Iteration 20/100, ave batch time 1.10 ms\n",
      "Iteration 30/100, ave batch time 1.09 ms\n",
      "Iteration 40/100, ave batch time 1.09 ms\n",
      "Iteration 50/100, ave batch time 1.09 ms\n",
      "Iteration 60/100, ave batch time 1.09 ms\n",
      "Iteration 70/100, ave batch time 1.11 ms\n",
      "Iteration 80/100, ave batch time 1.10 ms\n",
      "Iteration 90/100, ave batch time 1.10 ms\n",
      "Iteration 100/100, ave batch time 1.09 ms\n",
      "Average batch time: 1.09 ms\n"
     ]
    }
   ],
   "source": [
    "# TRT optimzed model benchmark\n",
    "benchmark(model_trt)\n"
   ]
  }
 ],
 "metadata": {
  "kernelspec": {
   "display_name": "Python 3.8.13 ('nvidia')",
   "language": "python",
   "name": "python3"
  },
  "language_info": {
   "codemirror_mode": {
    "name": "ipython",
    "version": 3
   },
   "file_extension": ".py",
   "mimetype": "text/x-python",
   "name": "python",
   "nbconvert_exporter": "python",
   "pygments_lexer": "ipython3",
   "version": "3.8.13"
  },
  "vscode": {
   "interpreter": {
    "hash": "84e0ac61cde742ce133e7872e2f02849c329d970034dc7788058ac6bd350be51"
   }
  }
 },
 "nbformat": 4,
 "nbformat_minor": 4
}
